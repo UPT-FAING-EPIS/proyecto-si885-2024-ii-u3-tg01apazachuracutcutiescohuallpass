{
  "cells": [
    {
      "cell_type": "markdown",
      "id": "265e7057",
      "metadata": {
        "id": "265e7057"
      },
      "source": [
        "# Laboratorio N° 01: Análisis Predictivo con R"
      ]
    },
    {
      "cell_type": "markdown",
      "id": "fd2ca74e",
      "metadata": {
        "id": "fd2ca74e"
      },
      "source": [
        "\n",
        "### Objetivos\n",
        "\n",
        "**Nombre:** Jesus Antonio Huallpa Maron\n",
        "\n",
        "* Aplicar análisis exploratorio y predictivo en un conjunto de datos utilizando R.\n",
        "* Entrenar un modelo para realizar predicciones sobre los datos.\n"
      ]
    },
    {
      "cell_type": "markdown",
      "id": "add47137",
      "metadata": {
        "id": "add47137"
      },
      "source": [
        "1. Carga del conjunto de datos."
      ]
    },
    {
      "cell_type": "code",
      "execution_count": 1,
      "id": "bb457b32",
      "metadata": {
        "colab": {
          "base_uri": "https://localhost:8080/",
          "height": 410
        },
        "id": "bb457b32",
        "outputId": "228a540c-9ca9-4e20-aa01-8c0a4c36632d"
      },
      "outputs": [
        {
          "output_type": "display_data",
          "data": {
            "text/html": [
              "<table class=\"dataframe\">\n",
              "<caption>A data.frame: 6 × 18</caption>\n",
              "<thead>\n",
              "\t<tr><th></th><th scope=col>X.id.</th><th scope=col>X.fecha.</th><th scope=col>X.ip.</th><th scope=col>X.clase.</th><th scope=col>X.horario.</th><th scope=col>X.dia.</th><th scope=col>X.turno.</th><th scope=col>X.laboratorio.</th><th scope=col>X.total_enviado_mb.</th><th scope=col>X.total_recibido_mb.</th><th scope=col>X.tema.</th><th scope=col>X.navegador.</th><th scope=col>X.seccion.</th><th scope=col>X.docente.</th><th scope=col>X.total_mbps.</th><th scope=col>X.total_GB.</th><th scope=col>X.tiempo_sesion.</th><th scope=col>X.consumo_energia_kwh.</th></tr>\n",
              "\t<tr><th></th><th scope=col>&lt;int&gt;</th><th scope=col>&lt;chr&gt;</th><th scope=col>&lt;chr&gt;</th><th scope=col>&lt;chr&gt;</th><th scope=col>&lt;chr&gt;</th><th scope=col>&lt;chr&gt;</th><th scope=col>&lt;chr&gt;</th><th scope=col>&lt;chr&gt;</th><th scope=col>&lt;dbl&gt;</th><th scope=col>&lt;dbl&gt;</th><th scope=col>&lt;chr&gt;</th><th scope=col>&lt;chr&gt;</th><th scope=col>&lt;chr&gt;</th><th scope=col>&lt;chr&gt;</th><th scope=col>&lt;dbl&gt;</th><th scope=col>&lt;dbl&gt;</th><th scope=col>&lt;chr&gt;</th><th scope=col>&lt;chr&gt;</th></tr>\n",
              "</thead>\n",
              "<tbody>\n",
              "\t<tr><th scope=row>1</th><td>14</td><td>2024-09-23</td><td>172.30.107.16</td><td>PROGRAMACION I</td><td>9:40-11:20</td><td>Lunes</td><td>MAÑANA</td><td>LAB-A (P-306)</td><td>27.15</td><td> 345.58</td><td>OSCURO</td><td>MSEdgeHTM </td><td>A</td><td>I.CHAPARRO</td><td> 372.73</td><td>0.36</td><td>NULL</td><td>NULL</td></tr>\n",
              "\t<tr><th scope=row>2</th><td>15</td><td>2024-09-23</td><td>172.30.107.16</td><td>PROGRAMACION I</td><td>9:40-11:20</td><td>Lunes</td><td>MAÑANA</td><td>LAB-A (P-306)</td><td>78.12</td><td>1463.15</td><td>OSCURO</td><td>MSEdgeHTM </td><td>A</td><td>I.CHAPARRO</td><td>1541.27</td><td>1.51</td><td>NULL</td><td>NULL</td></tr>\n",
              "\t<tr><th scope=row>3</th><td>16</td><td>2024-09-23</td><td>172.30.107.16</td><td>PROGRAMACION I</td><td>9:40-11:20</td><td>Lunes</td><td>MAÑANA</td><td>LAB-A (P-306)</td><td>27.15</td><td> 345.58</td><td>OSCURO</td><td>MSEdgeHTM </td><td>A</td><td>I.CHAPARRO</td><td> 372.73</td><td>0.36</td><td>NULL</td><td>NULL</td></tr>\n",
              "\t<tr><th scope=row>4</th><td>17</td><td>2024-09-23</td><td>172.30.107.16</td><td>PROGRAMACION I</td><td>9:40-11:20</td><td>Lunes</td><td>MAÑANA</td><td>LAB-A (P-306)</td><td> 2.28</td><td>  27.05</td><td>OSCURO</td><td>MSEdgeHTM </td><td>A</td><td>I.CHAPARRO</td><td>  29.33</td><td>0.03</td><td>NULL</td><td>NULL</td></tr>\n",
              "\t<tr><th scope=row>5</th><td>18</td><td>2024-09-23</td><td>172.30.107.16</td><td>PROGRAMACION I</td><td>9:40-11:20</td><td>Lunes</td><td>MAÑANA</td><td>LAB-A (P-306)</td><td>78.12</td><td>1463.15</td><td>OSCURO</td><td>MSEdgeHTM </td><td>A</td><td>I.CHAPARRO</td><td>1541.27</td><td>1.51</td><td>NULL</td><td>NULL</td></tr>\n",
              "\t<tr><th scope=row>6</th><td>19</td><td>2024-09-23</td><td>172.30.107.16</td><td>PROGRAMACION I</td><td>9:40-11:20</td><td>Lunes</td><td>MAÑANA</td><td>LAB-A (P-306)</td><td> 2.28</td><td>  27.05</td><td>CLARO </td><td>ChromeHTML</td><td>A</td><td>I.CHAPARRO</td><td>  29.33</td><td>0.03</td><td>NULL</td><td>NULL</td></tr>\n",
              "</tbody>\n",
              "</table>\n"
            ],
            "text/markdown": "\nA data.frame: 6 × 18\n\n| <!--/--> | X.id. &lt;int&gt; | X.fecha. &lt;chr&gt; | X.ip. &lt;chr&gt; | X.clase. &lt;chr&gt; | X.horario. &lt;chr&gt; | X.dia. &lt;chr&gt; | X.turno. &lt;chr&gt; | X.laboratorio. &lt;chr&gt; | X.total_enviado_mb. &lt;dbl&gt; | X.total_recibido_mb. &lt;dbl&gt; | X.tema. &lt;chr&gt; | X.navegador. &lt;chr&gt; | X.seccion. &lt;chr&gt; | X.docente. &lt;chr&gt; | X.total_mbps. &lt;dbl&gt; | X.total_GB. &lt;dbl&gt; | X.tiempo_sesion. &lt;chr&gt; | X.consumo_energia_kwh. &lt;chr&gt; |\n|---|---|---|---|---|---|---|---|---|---|---|---|---|---|---|---|---|---|---|\n| 1 | 14 | 2024-09-23 | 172.30.107.16 | PROGRAMACION I | 9:40-11:20 | Lunes | MAÑANA | LAB-A (P-306) | 27.15 |  345.58 | OSCURO | MSEdgeHTM  | A | I.CHAPARRO |  372.73 | 0.36 | NULL | NULL |\n| 2 | 15 | 2024-09-23 | 172.30.107.16 | PROGRAMACION I | 9:40-11:20 | Lunes | MAÑANA | LAB-A (P-306) | 78.12 | 1463.15 | OSCURO | MSEdgeHTM  | A | I.CHAPARRO | 1541.27 | 1.51 | NULL | NULL |\n| 3 | 16 | 2024-09-23 | 172.30.107.16 | PROGRAMACION I | 9:40-11:20 | Lunes | MAÑANA | LAB-A (P-306) | 27.15 |  345.58 | OSCURO | MSEdgeHTM  | A | I.CHAPARRO |  372.73 | 0.36 | NULL | NULL |\n| 4 | 17 | 2024-09-23 | 172.30.107.16 | PROGRAMACION I | 9:40-11:20 | Lunes | MAÑANA | LAB-A (P-306) |  2.28 |   27.05 | OSCURO | MSEdgeHTM  | A | I.CHAPARRO |   29.33 | 0.03 | NULL | NULL |\n| 5 | 18 | 2024-09-23 | 172.30.107.16 | PROGRAMACION I | 9:40-11:20 | Lunes | MAÑANA | LAB-A (P-306) | 78.12 | 1463.15 | OSCURO | MSEdgeHTM  | A | I.CHAPARRO | 1541.27 | 1.51 | NULL | NULL |\n| 6 | 19 | 2024-09-23 | 172.30.107.16 | PROGRAMACION I | 9:40-11:20 | Lunes | MAÑANA | LAB-A (P-306) |  2.28 |   27.05 | CLARO  | ChromeHTML | A | I.CHAPARRO |   29.33 | 0.03 | NULL | NULL |\n\n",
            "text/latex": "A data.frame: 6 × 18\n\\begin{tabular}{r|llllllllllllllllll}\n  & X.id. & X.fecha. & X.ip. & X.clase. & X.horario. & X.dia. & X.turno. & X.laboratorio. & X.total\\_enviado\\_mb. & X.total\\_recibido\\_mb. & X.tema. & X.navegador. & X.seccion. & X.docente. & X.total\\_mbps. & X.total\\_GB. & X.tiempo\\_sesion. & X.consumo\\_energia\\_kwh.\\\\\n  & <int> & <chr> & <chr> & <chr> & <chr> & <chr> & <chr> & <chr> & <dbl> & <dbl> & <chr> & <chr> & <chr> & <chr> & <dbl> & <dbl> & <chr> & <chr>\\\\\n\\hline\n\t1 & 14 & 2024-09-23 & 172.30.107.16 & PROGRAMACION I & 9:40-11:20 & Lunes & MAÑANA & LAB-A (P-306) & 27.15 &  345.58 & OSCURO & MSEdgeHTM  & A & I.CHAPARRO &  372.73 & 0.36 & NULL & NULL\\\\\n\t2 & 15 & 2024-09-23 & 172.30.107.16 & PROGRAMACION I & 9:40-11:20 & Lunes & MAÑANA & LAB-A (P-306) & 78.12 & 1463.15 & OSCURO & MSEdgeHTM  & A & I.CHAPARRO & 1541.27 & 1.51 & NULL & NULL\\\\\n\t3 & 16 & 2024-09-23 & 172.30.107.16 & PROGRAMACION I & 9:40-11:20 & Lunes & MAÑANA & LAB-A (P-306) & 27.15 &  345.58 & OSCURO & MSEdgeHTM  & A & I.CHAPARRO &  372.73 & 0.36 & NULL & NULL\\\\\n\t4 & 17 & 2024-09-23 & 172.30.107.16 & PROGRAMACION I & 9:40-11:20 & Lunes & MAÑANA & LAB-A (P-306) &  2.28 &   27.05 & OSCURO & MSEdgeHTM  & A & I.CHAPARRO &   29.33 & 0.03 & NULL & NULL\\\\\n\t5 & 18 & 2024-09-23 & 172.30.107.16 & PROGRAMACION I & 9:40-11:20 & Lunes & MAÑANA & LAB-A (P-306) & 78.12 & 1463.15 & OSCURO & MSEdgeHTM  & A & I.CHAPARRO & 1541.27 & 1.51 & NULL & NULL\\\\\n\t6 & 19 & 2024-09-23 & 172.30.107.16 & PROGRAMACION I & 9:40-11:20 & Lunes & MAÑANA & LAB-A (P-306) &  2.28 &   27.05 & CLARO  & ChromeHTML & A & I.CHAPARRO &   29.33 & 0.03 & NULL & NULL\\\\\n\\end{tabular}\n",
            "text/plain": [
              "  X.id. X.fecha.   X.ip.         X.clase.       X.horario. X.dia. X.turno.\n",
              "1 14    2024-09-23 172.30.107.16 PROGRAMACION I 9:40-11:20 Lunes  MAÑANA  \n",
              "2 15    2024-09-23 172.30.107.16 PROGRAMACION I 9:40-11:20 Lunes  MAÑANA  \n",
              "3 16    2024-09-23 172.30.107.16 PROGRAMACION I 9:40-11:20 Lunes  MAÑANA  \n",
              "4 17    2024-09-23 172.30.107.16 PROGRAMACION I 9:40-11:20 Lunes  MAÑANA  \n",
              "5 18    2024-09-23 172.30.107.16 PROGRAMACION I 9:40-11:20 Lunes  MAÑANA  \n",
              "6 19    2024-09-23 172.30.107.16 PROGRAMACION I 9:40-11:20 Lunes  MAÑANA  \n",
              "  X.laboratorio. X.total_enviado_mb. X.total_recibido_mb. X.tema. X.navegador.\n",
              "1 LAB-A (P-306)  27.15                345.58              OSCURO  MSEdgeHTM   \n",
              "2 LAB-A (P-306)  78.12               1463.15              OSCURO  MSEdgeHTM   \n",
              "3 LAB-A (P-306)  27.15                345.58              OSCURO  MSEdgeHTM   \n",
              "4 LAB-A (P-306)   2.28                 27.05              OSCURO  MSEdgeHTM   \n",
              "5 LAB-A (P-306)  78.12               1463.15              OSCURO  MSEdgeHTM   \n",
              "6 LAB-A (P-306)   2.28                 27.05              CLARO   ChromeHTML  \n",
              "  X.seccion. X.docente. X.total_mbps. X.total_GB. X.tiempo_sesion.\n",
              "1 A          I.CHAPARRO  372.73       0.36        NULL            \n",
              "2 A          I.CHAPARRO 1541.27       1.51        NULL            \n",
              "3 A          I.CHAPARRO  372.73       0.36        NULL            \n",
              "4 A          I.CHAPARRO   29.33       0.03        NULL            \n",
              "5 A          I.CHAPARRO 1541.27       1.51        NULL            \n",
              "6 A          I.CHAPARRO   29.33       0.03        NULL            \n",
              "  X.consumo_energia_kwh.\n",
              "1 NULL                  \n",
              "2 NULL                  \n",
              "3 NULL                  \n",
              "4 NULL                  \n",
              "5 NULL                  \n",
              "6 NULL                  "
            ]
          },
          "metadata": {}
        }
      ],
      "source": [
        "\n",
        "# Carga de datos\n",
        "datos <- read.csv(\"datos_combinados.csv\", sep = \",\", header = TRUE, fileEncoding = \"UTF-8\")\n",
        "\n",
        "# Ver las primeras filas\n",
        "head(datos)\n"
      ]
    },
    {
      "cell_type": "markdown",
      "id": "d521f990",
      "metadata": {
        "id": "d521f990"
      },
      "source": [
        "2. Exploración de los datos."
      ]
    },
    {
      "cell_type": "code",
      "execution_count": 2,
      "id": "d836a24c",
      "metadata": {
        "colab": {
          "base_uri": "https://localhost:8080/",
          "height": 954
        },
        "id": "d836a24c",
        "outputId": "b83663df-bd27-44ca-935f-7d180c8da5a2"
      },
      "outputs": [
        {
          "output_type": "stream",
          "name": "stdout",
          "text": [
            "'data.frame':\t1453 obs. of  18 variables:\n",
            " $ X.id.                 : int  14 15 16 17 18 19 21 22 25 26 ...\n",
            " $ X.fecha.              : chr  \"2024-09-23\" \"2024-09-23\" \"2024-09-23\" \"2024-09-23\" ...\n",
            " $ X.ip.                 : chr  \"172.30.107.16\" \"172.30.107.16\" \"172.30.107.16\" \"172.30.107.16\" ...\n",
            " $ X.clase.              : chr  \"PROGRAMACION I\" \"PROGRAMACION I\" \"PROGRAMACION I\" \"PROGRAMACION I\" ...\n",
            " $ X.horario.            : chr  \"9:40-11:20\" \"9:40-11:20\" \"9:40-11:20\" \"9:40-11:20\" ...\n",
            " $ X.dia.                : chr  \"Lunes\" \"Lunes\" \"Lunes\" \"Lunes\" ...\n",
            " $ X.turno.              : chr  \"MAÑANA\" \"MAÑANA\" \"MAÑANA\" \"MAÑANA\" ...\n",
            " $ X.laboratorio.        : chr  \"LAB-A (P-306)\" \"LAB-A (P-306)\" \"LAB-A (P-306)\" \"LAB-A (P-306)\" ...\n",
            " $ X.total_enviado_mb.   : num  27.15 78.12 27.15 2.28 78.12 ...\n",
            " $ X.total_recibido_mb.  : num  345.6 1463.2 345.6 27.1 1463.2 ...\n",
            " $ X.tema.               : chr  \"OSCURO\" \"OSCURO\" \"OSCURO\" \"OSCURO\" ...\n",
            " $ X.navegador.          : chr  \"MSEdgeHTM\" \"MSEdgeHTM\" \"MSEdgeHTM\" \"MSEdgeHTM\" ...\n",
            " $ X.seccion.            : chr  \"A\" \"A\" \"A\" \"A\" ...\n",
            " $ X.docente.            : chr  \"I.CHAPARRO\" \"I.CHAPARRO\" \"I.CHAPARRO\" \"I.CHAPARRO\" ...\n",
            " $ X.total_mbps.         : num  372.7 1541.3 372.7 29.3 1541.3 ...\n",
            " $ X.total_GB.           : num  0.36 1.51 0.36 0.03 1.51 0.03 0 0 0 0.23 ...\n",
            " $ X.tiempo_sesion.      : chr  \"NULL\" \"NULL\" \"NULL\" \"NULL\" ...\n",
            " $ X.consumo_energia_kwh.: chr  \"NULL\" \"NULL\" \"NULL\" \"NULL\" ...\n"
          ]
        },
        {
          "output_type": "display_data",
          "data": {
            "text/plain": [
              "     X.id.         X.fecha.            X.ip.             X.clase.        \n",
              " Min.   : 14.0   Length:1453        Length:1453        Length:1453       \n",
              " 1st Qu.:207.0   Class :character   Class :character   Class :character  \n",
              " Median :373.0   Mode  :character   Mode  :character   Mode  :character  \n",
              " Mean   :369.2                                                           \n",
              " 3rd Qu.:529.0                                                           \n",
              " Max.   :690.0                                                           \n",
              "  X.horario.           X.dia.            X.turno.         X.laboratorio.    \n",
              " Length:1453        Length:1453        Length:1453        Length:1453       \n",
              " Class :character   Class :character   Class :character   Class :character  \n",
              " Mode  :character   Mode  :character   Mode  :character   Mode  :character  \n",
              "                                                                            \n",
              "                                                                            \n",
              "                                                                            \n",
              " X.total_enviado_mb. X.total_recibido_mb.   X.tema.          X.navegador.      \n",
              " Min.   :   0.00     Min.   :     0.00    Length:1453        Length:1453       \n",
              " 1st Qu.:   0.60     1st Qu.:    27.04    Class :character   Class :character  \n",
              " Median :   6.83     Median :   202.33    Mode  :character   Mode  :character  \n",
              " Mean   :  72.29     Mean   :  2165.13                                         \n",
              " 3rd Qu.:  23.72     3rd Qu.:   698.22                                         \n",
              " Max.   :9998.03     Max.   :233842.54                                         \n",
              "  X.seccion.         X.docente.        X.total_mbps.        X.total_GB.     \n",
              " Length:1453        Length:1453        Min.   :     0.00   Min.   :  0.000  \n",
              " Class :character   Class :character   1st Qu.:    27.51   1st Qu.:  0.030  \n",
              " Mode  :character   Mode  :character   Median :   209.86   Median :  0.200  \n",
              "                                       Mean   :  2211.30   Mean   :  2.159  \n",
              "                                       3rd Qu.:   818.45   3rd Qu.:  0.800  \n",
              "                                       Max.   :234434.87   Max.   :228.940  \n",
              " X.tiempo_sesion.   X.consumo_energia_kwh.\n",
              " Length:1453        Length:1453           \n",
              " Class :character   Class :character      \n",
              " Mode  :character   Mode  :character      \n",
              "                                          \n",
              "                                          \n",
              "                                          "
            ]
          },
          "metadata": {}
        }
      ],
      "source": [
        "\n",
        "# Resumen de la estructura y los tipos de datos\n",
        "str(datos)\n",
        "\n",
        "# Resumen estadístico\n",
        "summary(datos)\n"
      ]
    },
    {
      "cell_type": "markdown",
      "id": "81c99e6d",
      "metadata": {
        "id": "81c99e6d"
      },
      "source": [
        "3. Limpieza y preparación de los datos."
      ]
    },
    {
      "cell_type": "code",
      "execution_count": 5,
      "id": "31c5c7c7",
      "metadata": {
        "id": "31c5c7c7"
      },
      "outputs": [],
      "source": [
        "# Verificar si la columna 'horario' tiene valores nulos\n",
        "if (all(is.na(datos$horario))) {\n",
        "    datos$horario <- \"Sin horario\"  # Crear la columna con un valor predeterminado\n",
        "} else {\n",
        "    datos$horario[is.na(datos$horario)] <- \"Sin horario\"  # Reemplazar valores nulos\n",
        "}\n"
      ]
    },
    {
      "cell_type": "markdown",
      "id": "99f9fd79",
      "metadata": {
        "id": "99f9fd79"
      },
      "source": [
        "4. Entrenamiento del modelo predictivo."
      ]
    },
    {
      "cell_type": "code",
      "execution_count": 13,
      "id": "1f0a0572",
      "metadata": {
        "colab": {
          "base_uri": "https://localhost:8080/",
          "height": 784
        },
        "id": "1f0a0572",
        "outputId": "9b059b4c-1bf0-41d4-e84a-f8a30f9d1494"
      },
      "outputs": [
        {
          "output_type": "display_data",
          "data": {
            "text/plain": [
              "\n",
              "Call:\n",
              "lm(formula = .outcome ~ ., data = dat)\n",
              "\n",
              "Residuals:\n",
              "    Min      1Q  Median      3Q     Max \n",
              "-4.2407  0.0213  0.0230  0.0266  1.4131 \n",
              "\n",
              "Coefficients:\n",
              "                      Estimate Std. Error  t value Pr(>|t|)    \n",
              "(Intercept)         -2.299e-02  8.597e-03   -2.674  0.00758 ** \n",
              "X.total_enviado_mb   9.741e-04  1.987e-05   49.016  < 2e-16 ***\n",
              "X.total_recibido_mb  9.754e-04  8.397e-07 1161.548  < 2e-16 ***\n",
              "---\n",
              "Signif. codes:  0 ‘***’ 0.001 ‘**’ 0.01 ‘*’ 0.05 ‘.’ 0.1 ‘ ’ 1\n",
              "\n",
              "Residual standard error: 0.3176 on 1450 degrees of freedom\n",
              "Multiple R-squared:  0.999,\tAdjusted R-squared:  0.999 \n",
              "F-statistic: 7.043e+05 on 2 and 1450 DF,  p-value: < 2.2e-16\n"
            ]
          },
          "metadata": {}
        },
        {
          "output_type": "stream",
          "name": "stdout",
          "text": [
            "RMSE: 0.3172242"
          ]
        },
        {
          "output_type": "display_data",
          "data": {
            "text/plain": [
              "plot without title"
            ],
            "image/png": "[encoded data removed]"
          },
          "metadata": {
            "image/png": {
              "width": 420,
              "height": 420
            }
          }
        }
      ],
      "source": [
        "# Instalar y cargar librerías necesarias\n",
        "if (!require(caret)) install.packages(\"caret\")\n",
        "if (!require(ggplot2)) install.packages(\"ggplot2\")\n",
        "library(caret)\n",
        "library(ggplot2)\n",
        "\n",
        "# Suponiendo que tus datos están en un data.frame llamado 'datos'\n",
        "\n",
        "# Asegúrate de que los datos estén correctamente configurados\n",
        "# Convierte las columnas necesarias a tipo numérico si es necesario\n",
        "datos$X.total_enviado_mb <- as.numeric(datos$X.total_enviado_mb)\n",
        "datos$X.total_recibido_mb <- as.numeric(datos$X.total_recibido_mb)\n",
        "datos$X.total_GB <- as.numeric(datos$X.total_GB)\n",
        "\n",
        "# Crear un modelo de regresión (predicción de X.total_GB en función de X.total_enviado_mb y X.total_recibido_mb)\n",
        "set.seed(123)\n",
        "modelo <- train(X.total_GB ~ X.total_enviado_mb + X.total_recibido_mb, data = datos, method = \"lm\")\n",
        "\n",
        "# Resumen del modelo\n",
        "summary(modelo)\n",
        "\n",
        "# Hacer predicciones en el conjunto de datos\n",
        "predicciones <- predict(modelo, datos[, c(\"X.total_enviado_mb\", \"X.total_recibido_mb\")])\n",
        "\n",
        "# Añadir las predicciones al dataframe original\n",
        "datos$prediccion_GB <- predicciones\n",
        "\n",
        "# Crear un gráfico de dispersión para comparar las predicciones con los valores reales\n",
        "ggplot(datos, aes(x = X.total_GB, y = prediccion_GB)) +\n",
        "  geom_point(color = \"blue\") +\n",
        "  geom_abline(slope = 1, intercept = 0, color = \"red\") +\n",
        "  labs(title = \"Predicción vs Real\", x = \"Valor Real de X.total_GB\", y = \"Predicción de X.total_GB\") +\n",
        "  theme_minimal()\n",
        "\n",
        "# Calcular RMSE (Root Mean Squared Error) para evaluar el rendimiento del modelo\n",
        "rmse <- sqrt(mean((predicciones - datos$X.total_GB)^2))\n",
        "cat(\"RMSE:\", rmse)\n"
      ]
    },
    {
      "cell_type": "markdown",
      "id": "955cc317",
      "metadata": {
        "id": "955cc317"
      },
      "source": [
        "5. Conclusión."
      ]
    },
    {
      "cell_type": "markdown",
      "id": "911770dd",
      "metadata": {
        "id": "911770dd"
      },
      "source": [
        "\n",
        "Se ha realizado un análisis exploratorio y se ha entrenado un modelo predictivo básico utilizando el conjunto de datos proporcionado.\n"
      ]
    }
  ],
  "metadata": {
    "colab": {
      "provenance": []
    },
    "kernelspec": {
      "display_name": "R",
      "language": "R",
      "name": "ir"
    },
    "language_info": {
      "codemirror_mode": "r",
      "file_extension": ".r",
      "mimetype": "text/x-r-source",
      "name": "R",
      "pygments_lexer": "r",
      "version": "3.3.3"
    }
  },
  "nbformat": 4,
  "nbformat_minor": 5
}